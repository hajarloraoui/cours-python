{
 "cells": [
  {
   "cell_type": "markdown",
   "metadata": {},
   "source": [
    "<div style=\"background: linear-gradient(to right, #007A4D, #FFFFFF, #000000); color: white; font-size: 25px; text-align: center;\">\n",
    "    <b></b>\n",
    "</div>\n"
   ]
  },
  {
   "cell_type": "markdown",
   "metadata": {},
   "source": [
    "<div style=\"background: linear-gradient(to right, #87CEEB, #00BFFF); color: white; font-size: 25px; text-align: center;\">\n",
    "    <b>Continuation of iteration and start of strings</b>\n",
    "</div>\n"
   ]
  },
  {
   "cell_type": "code",
   "execution_count": 9,
   "metadata": {},
   "outputs": [
    {
     "name": "stdout",
     "output_type": "stream",
     "text": [
      "min == 4 , max == 7\n"
     ]
    }
   ],
   "source": [
    "my_max=None\n",
    "my_min=None\n",
    "while True:\n",
    "    number=input(\" Enter a number  or stop or STOP\")\n",
    "    if number ==\"STOP\" or number==\"stop\":\n",
    "        break\n",
    "    number=int(number)\n",
    "    if my_max is None or number > my_max:\n",
    "        my_max=number\n",
    "    if my_min is None or number < my_min :\n",
    "        my_min=number\n",
    "print (f\"min == {my_min} , max == {my_max}\" )\n",
    "    "
   ]
  },
  {
   "cell_type": "markdown",
   "metadata": {},
   "source": [
    "<div style=\"background: linear-gradient(to right, #87CEEB, #00BFFF); color: white; font-size: 40px; text-align: center;\">\n",
    "    <b> strings</b>\n",
    "</div>\n"
   ]
  },
  {
   "cell_type": "code",
   "execution_count": 12,
   "metadata": {},
   "outputs": [
    {
     "name": "stdout",
     "output_type": "stream",
     "text": [
      "n\n",
      "6\n",
      "a\n"
     ]
    }
   ],
   "source": [
    "fruit= \"Banana\"\n",
    "print(fruit[4])\n",
    "print(len(fruit))\n",
    "print(fruit[len(fruit)-1])"
   ]
  },
  {
   "cell_type": "code",
   "execution_count": 16,
   "metadata": {},
   "outputs": [
    {
     "name": "stdout",
     "output_type": "stream",
     "text": [
      "=B==a==n==a==n==a="
     ]
    }
   ],
   "source": [
    "fruit= \"Banana\"\n",
    "indice=0\n",
    "while indice < len(fruit):\n",
    "    print(f\"={ fruit[indice]}=\",end=\"\")\n",
    "    indice+=1"
   ]
  },
  {
   "cell_type": "code",
   "execution_count": 18,
   "metadata": {},
   "outputs": [
    {
     "name": "stdout",
     "output_type": "stream",
     "text": [
      " anomil , ananaB"
     ]
    }
   ],
   "source": [
    "fruit=\"Banana , limona \"\n",
    "i=len(fruit)-1\n",
    "while i >-1:\n",
    "    print(fruit[i],end=\"\")\n",
    "    i-=1"
   ]
  },
  {
   "cell_type": "code",
   "execution_count": 20,
   "metadata": {},
   "outputs": [
    {
     "name": "stdout",
     "output_type": "stream",
     "text": [
      "Banana , limona "
     ]
    }
   ],
   "source": [
    "fruit=\"Banana , limona \"\n",
    "for char in fruit:\n",
    "    print(char,end=\"\")"
   ]
  },
  {
   "cell_type": "code",
   "execution_count": 22,
   "metadata": {},
   "outputs": [
    {
     "name": "stdout",
     "output_type": "stream",
     "text": [
      " anomil , ananaB"
     ]
    }
   ],
   "source": [
    "fruit=\"Banana , limona \"\n",
    "for i in range(len(fruit)-1,-1,-1):\n",
    "    print(fruit[i],end=\"\")"
   ]
  },
  {
   "cell_type": "markdown",
   "metadata": {},
   "source": [
    "slice[start:stop:steps]"
   ]
  },
  {
   "cell_type": "code",
   "execution_count": 23,
   "metadata": {},
   "outputs": [
    {
     "name": "stdout",
     "output_type": "stream",
     "text": [
      "hello mashi world\n"
     ]
    }
   ],
   "source": [
    "jomla=\"hello mashi world\"\n",
    "print(jomla[:])"
   ]
  },
  {
   "cell_type": "code",
   "execution_count": 24,
   "metadata": {},
   "outputs": [
    {
     "name": "stdout",
     "output_type": "stream",
     "text": [
      "hello mashi world\n"
     ]
    }
   ],
   "source": [
    "jomla=\"hello mashi world\"\n",
    "print(jomla[::])"
   ]
  },
  {
   "cell_type": "code",
   "execution_count": 25,
   "metadata": {},
   "outputs": [
    {
     "name": "stdout",
     "output_type": "stream",
     "text": [
      "o m\n"
     ]
    }
   ],
   "source": [
    "jomla=\"hello mashi world\"\n",
    "print(jomla[4:7])"
   ]
  },
  {
   "cell_type": "code",
   "execution_count": 28,
   "metadata": {},
   "outputs": [
    {
     "name": "stdout",
     "output_type": "stream",
     "text": [
      "hello mas\n",
      "dlrow i\n"
     ]
    }
   ],
   "source": [
    "jomla=\"hello mashi world\"\n",
    "print(jomla[:9:])\n",
    "print(jomla[:9:-1])"
   ]
  },
  {
   "cell_type": "code",
   "execution_count": 29,
   "metadata": {},
   "outputs": [
    {
     "name": "stdout",
     "output_type": "stream",
     "text": [
      "dlrow ihsam olleh\n"
     ]
    }
   ],
   "source": [
    "jomla=\"hello mashi world\"\n",
    "print(jomla[::-1])"
   ]
  },
  {
   "cell_type": "code",
   "execution_count": 30,
   "metadata": {},
   "outputs": [
    {
     "ename": "TypeError",
     "evalue": "'str' object does not support item assignment",
     "output_type": "error",
     "traceback": [
      "\u001b[0;31m---------------------------------------------------------------------------\u001b[0m",
      "\u001b[0;31mTypeError\u001b[0m                                 Traceback (most recent call last)",
      "Cell \u001b[0;32mIn[30], line 2\u001b[0m\n\u001b[1;32m      1\u001b[0m fruit\u001b[38;5;241m=\u001b[39m\u001b[38;5;124m\"\u001b[39m\u001b[38;5;124mbnana\u001b[39m\u001b[38;5;124m\"\u001b[39m\n\u001b[0;32m----> 2\u001b[0m \u001b[43mfruit\u001b[49m\u001b[43m[\u001b[49m\u001b[38;5;241;43m0\u001b[39;49m\u001b[43m]\u001b[49m\u001b[38;5;241m=\u001b[39m\u001b[38;5;124m\"\u001b[39m\u001b[38;5;124mv\u001b[39m\u001b[38;5;124m\"\u001b[39m\n\u001b[1;32m      3\u001b[0m \u001b[38;5;28mprint\u001b[39m(fruit)\n",
      "\u001b[0;31mTypeError\u001b[0m: 'str' object does not support item assignment"
     ]
    }
   ],
   "source": [
    "fruit=\"bnana\"\n",
    "fruit[0]=\"v\"\n",
    "print(fruit)"
   ]
  },
  {
   "cell_type": "code",
   "execution_count": 31,
   "metadata": {},
   "outputs": [
    {
     "name": "stdout",
     "output_type": "stream",
     "text": [
      "True\n",
      "False\n"
     ]
    }
   ],
   "source": [
    "fruit=\"bnana\"\n",
    "print(\"a\" in fruit)\n",
    "print(\"h\" in fruit)"
   ]
  },
  {
   "cell_type": "code",
   "execution_count": 32,
   "metadata": {},
   "outputs": [
    {
     "name": "stdout",
     "output_type": "stream",
     "text": [
      "False\n",
      "True\n"
     ]
    }
   ],
   "source": [
    "fruit1=\"Banana\"\n",
    "fruit2=\"banana\"\n",
    "print(fruit1>fruit2)\n",
    "print(fruit2>fruit1)"
   ]
  },
  {
   "cell_type": "code",
   "execution_count": 35,
   "metadata": {},
   "outputs": [
    {
     "name": "stdout",
     "output_type": "stream",
     "text": [
      "capitalize\n",
      "casefold\n",
      "center\n",
      "count\n",
      "encode\n",
      "endswith\n",
      "expandtabs\n",
      "find\n",
      "format\n",
      "format_map\n",
      "index\n",
      "isalnum\n",
      "isalpha\n",
      "isascii\n",
      "isdecimal\n",
      "isdigit\n",
      "isidentifier\n",
      "islower\n",
      "isnumeric\n",
      "isprintable\n",
      "isspace\n",
      "istitle\n",
      "isupper\n",
      "join\n",
      "ljust\n",
      "lower\n",
      "lstrip\n",
      "maketrans\n",
      "partition\n",
      "removeprefix\n",
      "removesuffix\n",
      "replace\n",
      "rfind\n",
      "rindex\n",
      "rjust\n",
      "rpartition\n",
      "rsplit\n",
      "rstrip\n",
      "split\n",
      "splitlines\n",
      "startswith\n",
      "strip\n",
      "swapcase\n",
      "title\n",
      "translate\n",
      "upper\n",
      "zfill\n"
     ]
    }
   ],
   "source": [
    "fruit=\"ananas\"\n",
    "for i in dir(fruit):\n",
    "    if \"__\" not in i:\n",
    "        print(i)"
   ]
  },
  {
   "cell_type": "code",
   "execution_count": 36,
   "metadata": {},
   "outputs": [
    {
     "name": "stdout",
     "output_type": "stream",
     "text": [
      "Help on method_descriptor:\n",
      "\n",
      "capitalize(self, /)\n",
      "    Return a capitalized version of the string.\n",
      "    \n",
      "    More specifically, make the first character have upper case and the rest lower\n",
      "    case.\n",
      "\n",
      "None\n"
     ]
    }
   ],
   "source": [
    "print(help(str.capitalize))"
   ]
  },
  {
   "cell_type": "code",
   "execution_count": 41,
   "metadata": {},
   "outputs": [
    {
     "name": "stdout",
     "output_type": "stream",
     "text": [
      "Bnana  Nana  Limon\n",
      "Bnana  nana  limon\n"
     ]
    }
   ],
   "source": [
    "fruit=\"bNANA  NANA  LIMON\"\n",
    "print(fruit.title())\n",
    "print(fruit.capitalize())"
   ]
  },
  {
   "cell_type": "code",
   "execution_count": 43,
   "metadata": {},
   "outputs": [
    {
     "name": "stdout",
     "output_type": "stream",
     "text": [
      " IJJAS \n",
      " ijjas \n"
     ]
    }
   ],
   "source": [
    "fruit=\" ijjas \"\n",
    "print(fruit.upper())\n",
    "print(fruit.lower())"
   ]
  },
  {
   "cell_type": "code",
   "execution_count": 47,
   "metadata": {},
   "outputs": [
    {
     "name": "stdout",
     "output_type": "stream",
     "text": [
      "-1\n",
      "2\n",
      "3\n",
      "-1\n"
     ]
    }
   ],
   "source": [
    "print(fruit.find(\"b\"))\n",
    "print(fruit.find(\"j\"))\n",
    "print(fruit.find(\"ja\"))\n",
    "print(fruit.find(\"j\",4))"
   ]
  },
  {
   "cell_type": "code",
   "execution_count": 52,
   "metadata": {},
   "outputs": [
    {
     "ename": "ValueError",
     "evalue": "substring not found",
     "output_type": "error",
     "traceback": [
      "\u001b[0;31m---------------------------------------------------------------------------\u001b[0m",
      "\u001b[0;31mValueError\u001b[0m                                Traceback (most recent call last)",
      "Cell \u001b[0;32mIn[52], line 1\u001b[0m\n\u001b[0;32m----> 1\u001b[0m \u001b[38;5;28mprint\u001b[39m(\u001b[43mfruit\u001b[49m\u001b[38;5;241;43m.\u001b[39;49m\u001b[43mindex\u001b[49m\u001b[43m(\u001b[49m\u001b[38;5;124;43m\"\u001b[39;49m\u001b[38;5;124;43mb\u001b[39;49m\u001b[38;5;124;43m\"\u001b[39;49m\u001b[43m)\u001b[49m)\n",
      "\u001b[0;31mValueError\u001b[0m: substring not found"
     ]
    }
   ],
   "source": [
    "print(fruit.index(\"b\"))"
   ]
  },
  {
   "cell_type": "code",
   "execution_count": 54,
   "metadata": {},
   "outputs": [
    {
     "name": "stdout",
     "output_type": "stream",
     "text": [
      "2\n"
     ]
    }
   ],
   "source": [
    "print(fruit.index(\"j\"))"
   ]
  },
  {
   "cell_type": "code",
   "execution_count": 48,
   "metadata": {},
   "outputs": [
    {
     "name": "stdout",
     "output_type": "stream",
     "text": [
      " ijjas \n",
      "ijjas\n"
     ]
    }
   ],
   "source": [
    "print(fruit)\n",
    "print(fruit.strip()) "
   ]
  },
  {
   "cell_type": "code",
   "execution_count": 49,
   "metadata": {},
   "outputs": [
    {
     "data": {
      "text/plain": [
       "False"
      ]
     },
     "execution_count": 49,
     "metadata": {},
     "output_type": "execute_result"
    }
   ],
   "source": [
    "fruit.startswith(\"i\")"
   ]
  },
  {
   "cell_type": "code",
   "execution_count": 50,
   "metadata": {},
   "outputs": [
    {
     "data": {
      "text/plain": [
       "True"
      ]
     },
     "execution_count": 50,
     "metadata": {},
     "output_type": "execute_result"
    }
   ],
   "source": [
    "fruit.startswith(\" \")"
   ]
  },
  {
   "cell_type": "code",
   "execution_count": 55,
   "metadata": {},
   "outputs": [
    {
     "name": "stdout",
     "output_type": "stream",
     "text": [
      "2\n"
     ]
    }
   ],
   "source": [
    "print(fruit.count(\"j\"))"
   ]
  },
  {
   "cell_type": "code",
   "execution_count": 57,
   "metadata": {},
   "outputs": [
    {
     "name": "stdout",
     "output_type": "stream",
     "text": [
      "3\n"
     ]
    }
   ],
   "source": [
    "def my_own_count(string,char):\n",
    "    counter=0\n",
    "    for i in string:\n",
    "        if i ==char:\n",
    "            counter+=1\n",
    "    return counter\n",
    "\n",
    "print(my_own_count(\"banana\",\"a\"))"
   ]
  },
  {
   "cell_type": "code",
   "execution_count": 58,
   "metadata": {},
   "outputs": [
    {
     "name": "stdout",
     "output_type": "stream",
     "text": [
      "gmail.com\n",
      "yahoo.com\n"
     ]
    }
   ],
   "source": [
    "email1=\"skjhdkgj@gmail.com\"\n",
    "email2=\"kjhdiushdg@yahoo.com\"\n",
    "def host_finder(email):\n",
    "    atpost=email.find(\"@\")\n",
    "    return email[atpost+1:]\n",
    "print(host_finder(email1))\n",
    "print(host_finder(email2))"
   ]
  },
  {
   "cell_type": "code",
   "execution_count": 65,
   "metadata": {},
   "outputs": [
    {
     "name": "stdout",
     "output_type": "stream",
     "text": [
      "14\n"
     ]
    }
   ],
   "source": [
    "no9at=\"math=14 , bio=17 , phy=20 name=khaled\"\n",
    "namei=no9at.find(\"name\")\n",
    "namet=no9at.find(\"=\",namei)\n",
    "name=no9at[namet+1:]\n",
    "mathi=no9at.find(\"math\")\n",
    "matht=no9at.find(\"=\",mathi)\n",
    "maths=no9at.find(\" \",matht)\n",
    "math=no9at[matht+1:maths]\n",
    "print(math)"
   ]
  },
  {
   "cell_type": "code",
   "execution_count": 68,
   "metadata": {},
   "outputs": [
    {
     "name": "stdout",
     "output_type": "stream",
     "text": [
      "math=14 , bio=17 , phy=20 name=khaled\n",
      "     math=14 , arabic=17 , phy=20 name=khaled     \n"
     ]
    }
   ],
   "source": [
    "no9at=\"     math=14 , bio=17 , phy=20 name=khaled     \"\n",
    "print(no9at.strip())\n",
    "print(no9at.replace(\"bio\",\"arabic\"))"
   ]
  }
 ],
 "metadata": {
  "kernelspec": {
   "display_name": "base",
   "language": "python",
   "name": "python3"
  },
  "language_info": {
   "codemirror_mode": {
    "name": "ipython",
    "version": 3
   },
   "file_extension": ".py",
   "mimetype": "text/x-python",
   "name": "python",
   "nbconvert_exporter": "python",
   "pygments_lexer": "ipython3",
   "version": "3.11.4"
  }
 },
 "nbformat": 4,
 "nbformat_minor": 2
}
