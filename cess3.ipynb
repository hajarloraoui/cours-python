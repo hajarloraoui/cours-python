{
 "cells": [
  {
   "cell_type": "markdown",
   "metadata": {},
   "source": [
    "<div style=\"color:orange; font-size:25px; text-align:center;\"><b>try exept</b></div>"
   ]
  },
  {
   "cell_type": "code",
   "execution_count": 6,
   "metadata": {},
   "outputs": [
    {
     "name": "stdout",
     "output_type": "stream",
     "text": [
      "enter a mark , a number please not t\n"
     ]
    }
   ],
   "source": [
    "mark=input(\" enter your math's mark\")\n",
    "try:\n",
    "    mark=int(mark)\n",
    "    if mark>10:\n",
    "        print(\"njehti\")\n",
    "    else:\n",
    "        print(\"merra okhra\")\n",
    "except :\n",
    "    print(f\"enter a mark , a number please not =={mark}==\")"
   ]
  },
  {
   "cell_type": "code",
   "execution_count": 7,
   "metadata": {},
   "outputs": [
    {
     "name": "stdout",
     "output_type": "stream",
     "text": [
      "Pay: 475.0\n"
     ]
    }
   ],
   "source": [
    "hours=float(input(\"Enter Hours\"))\n",
    "rate=float(input(\"Enter Rate\"))\n",
    "if hours<=40:\n",
    "    print(f\"Pay: {hours*rate}\")\n",
    "else:\n",
    "    pay=(40*rate)+(hours-40)*1.5*rate\n",
    "    print(f\"Pay: {pay}\")"
   ]
  },
  {
   "cell_type": "code",
   "execution_count": 12,
   "metadata": {},
   "outputs": [
    {
     "name": "stdout",
     "output_type": "stream",
     "text": [
      "Pay: 20.0\n"
     ]
    }
   ],
   "source": [
    "try:\n",
    "    hours=float(input(\"Enter Hours\"))\n",
    "    rate=float(input(\"Enter Rate\"))\n",
    "    if hours<=40:\n",
    "        print(f\"Pay: {hours*rate}\")\n",
    "    else:\n",
    "        pay=(40*rate)+(hours-40)*1.5*rate\n",
    "        print(f\"Pay: {pay}\")\n",
    "except:\n",
    "    print(\"enter a number please \")\n"
   ]
  },
  {
   "cell_type": "code",
   "execution_count": 17,
   "metadata": {},
   "outputs": [
    {
     "name": "stdout",
     "output_type": "stream",
     "text": [
      "B\n"
     ]
    }
   ],
   "source": [
    "try:\n",
    "    score=float(input(\"enter a score\"))\n",
    "    if score >= 0.9:\n",
    "        print(\"A\")\n",
    "    elif score >= 0.8:\n",
    "        print(\"B\")\n",
    "    elif score >= 0.7:\n",
    "        print(\"C\")\n",
    "    elif score>= 0.6:\n",
    "        print(\"D\")\n",
    "    elif score < 0.6:\n",
    "        print(\"F\")\n",
    "    else:\n",
    "        print(\" entre a number in range 0-1\")\n",
    "except:\n",
    "    print(\" the number should be between 0 an 1\")"
   ]
  },
  {
   "cell_type": "code",
   "execution_count": 20,
   "metadata": {},
   "outputs": [
    {
     "name": "stdout",
     "output_type": "stream",
     "text": [
      "w\n"
     ]
    },
    {
     "data": {
      "text/plain": [
       "' '"
      ]
     },
     "execution_count": 20,
     "metadata": {},
     "output_type": "execute_result"
    }
   ],
   "source": [
    "print(max('Hello world'))\n",
    "min('Hello world')"
   ]
  },
  {
   "cell_type": "code",
   "execution_count": 23,
   "metadata": {},
   "outputs": [
    {
     "name": "stdout",
     "output_type": "stream",
     "text": [
      "6\n"
     ]
    },
    {
     "data": {
      "text/plain": [
       "5"
      ]
     },
     "execution_count": 23,
     "metadata": {},
     "output_type": "execute_result"
    }
   ],
   "source": [
    "print(len([1,2,3,44,5,54]))\n",
    "len(\"hello\")"
   ]
  },
  {
   "cell_type": "code",
   "execution_count": 26,
   "metadata": {},
   "outputs": [
    {
     "name": "stdout",
     "output_type": "stream",
     "text": [
      "1.2246467991473532e-16\n"
     ]
    }
   ],
   "source": [
    "from math import sin ,pi \n",
    "print(sin(pi))"
   ]
  },
  {
   "cell_type": "code",
   "execution_count": 53,
   "metadata": {},
   "outputs": [
    {
     "name": "stdout",
     "output_type": "stream",
     "text": [
      "40\n"
     ]
    }
   ],
   "source": [
    "from random import randint\n",
    "print(randint(5,90))"
   ]
  },
  {
   "cell_type": "code",
   "execution_count": 55,
   "metadata": {},
   "outputs": [
    {
     "name": "stdout",
     "output_type": "stream",
     "text": [
      " the number to guess is lower\n",
      " the number to guess is lower\n",
      "the number to guess is bigger\n",
      " the number to guess is lower\n",
      " the number to guess is lower\n",
      "the number to guess is bigger\n",
      " the number to guess is lower\n",
      " thats right its 26\n"
     ]
    }
   ],
   "source": [
    "to_guess=randint(0,100)\n",
    "while True:\n",
    "    number=int(input(\" enter a number \"))\n",
    "    if number>to_guess:\n",
    "        print(\" the number to guess is lower\")\n",
    "    elif number<to_guess:\n",
    "        print(\"the number to guess is bigger\")\n",
    "    else:\n",
    "        print(f\" thats right its {to_guess}\")\n",
    "        break"
   ]
  },
  {
   "cell_type": "code",
   "execution_count": 82,
   "metadata": {},
   "outputs": [
    {
     "name": "stdout",
     "output_type": "stream",
     "text": [
      "0.5108357826044956\n",
      "banana\n"
     ]
    }
   ],
   "source": [
    "import random\n",
    "print(random.random())\n",
    "lista=[\"apple\",\"banana\",\"kiwi\"]\n",
    "print(random.choice(lista))"
   ]
  },
  {
   "cell_type": "code",
   "execution_count": 96,
   "metadata": {},
   "outputs": [
    {
     "name": "stdout",
     "output_type": "stream",
     "text": [
      "hello merhaba bik \n"
     ]
    }
   ],
   "source": [
    "def greeter():\n",
    "    print(\"hello merhaba bik \")\n",
    "greeter()"
   ]
  },
  {
   "cell_type": "code",
   "execution_count": 99,
   "metadata": {},
   "outputs": [
    {
     "name": "stdout",
     "output_type": "stream",
     "text": [
      "hello merhaba bik ahmed\n",
      "hello merhaba bik khaled\n",
      "hello merhaba bik khaled\n",
      "hello merhaba bik khaled\n"
     ]
    }
   ],
   "source": [
    "def greeter(guest):\n",
    "    print(f\"hello merhaba bik {guest}\")\n",
    "greeter(\"ahmed\")\n",
    "def too_much(x):\n",
    "    greeter(x)\n",
    "    greeter(x)\n",
    "    greeter(x)\n",
    "too_much(\"khaled\")"
   ]
  },
  {
   "cell_type": "code",
   "execution_count": 102,
   "metadata": {},
   "outputs": [
    {
     "name": "stdout",
     "output_type": "stream",
     "text": [
      "49\n",
      "11\n",
      "16\n"
     ]
    }
   ],
   "source": [
    "def adder(a,b):\n",
    "    print(a+b)\n",
    "    return a+b\n",
    "adder(5,44)\n",
    "print(adder(5,6)+5)"
   ]
  },
  {
   "cell_type": "code",
   "execution_count": 105,
   "metadata": {},
   "outputs": [
    {
     "name": "stdout",
     "output_type": "stream",
     "text": [
      "11\n",
      " 1 = None\n",
      "2 = 9\n"
     ]
    }
   ],
   "source": [
    "def adder1(a,b):\n",
    "    print(2+a+b)\n",
    "    \n",
    "def adder2(a,b):\n",
    "    return a+b\n",
    "\n",
    "number1=adder1(4,5)\n",
    "number2=adder2(4,5)\n",
    "print(f\" 1 = {number1}\")\n",
    "print(f\"2 = {number2}\")"
   ]
  },
  {
   "cell_type": "code",
   "execution_count": 107,
   "metadata": {},
   "outputs": [
    {
     "name": "stdout",
     "output_type": "stream",
     "text": [
      "Pay: 475.0\n"
     ]
    }
   ],
   "source": [
    "def pay_calculator(hours,rate):\n",
    "    if hours<=40:\n",
    "        print(f\"Pay: {hours*rate}\")\n",
    "    else:\n",
    "        pay=(40*rate)+(hours-40)*1.5*rate\n",
    "        print(f\"Pay: {pay}\")\n",
    "pay_calculator(45,10)"
   ]
  }
 ],
 "metadata": {
  "kernelspec": {
   "display_name": "base",
   "language": "python",
   "name": "python3"
  },
  "language_info": {
   "codemirror_mode": {
    "name": "ipython",
    "version": 3
   },
   "file_extension": ".py",
   "mimetype": "text/x-python",
   "name": "python",
   "nbconvert_exporter": "python",
   "pygments_lexer": "ipython3",
   "version": "3.11.4"
  }
 },
 "nbformat": 4,
 "nbformat_minor": 2
}
