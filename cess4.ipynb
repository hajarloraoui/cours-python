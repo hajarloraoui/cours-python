{
 "cells": [
  {
   "cell_type": "markdown",
   "metadata": {},
   "source": [
    "<div style=\"color:red; font-size:25px; text-align:center;\"><b> 4 Iteration</b></div>"
   ]
  },
  {
   "cell_type": "code",
   "execution_count": 3,
   "metadata": {},
   "outputs": [
    {
     "data": {
      "text/plain": [
       "1"
      ]
     },
     "execution_count": 3,
     "metadata": {},
     "output_type": "execute_result"
    }
   ],
   "source": [
    "x=0\n",
    "x+=1\n",
    "x"
   ]
  },
  {
   "cell_type": "markdown",
   "metadata": {},
   "source": [
    "# while loop"
   ]
  },
  {
   "cell_type": "code",
   "execution_count": 4,
   "metadata": {},
   "outputs": [
    {
     "name": "stdout",
     "output_type": "stream",
     "text": [
      "hello  hello  hello  hello  hello  "
     ]
    }
   ],
   "source": [
    "'''while condition:\n",
    "    todo'''\n",
    "i=0\n",
    "while i<5:\n",
    "    print(\"hello \",end=\" \")\n",
    "    i+=1"
   ]
  },
  {
   "cell_type": "code",
   "execution_count": 8,
   "metadata": {},
   "outputs": [
    {
     "name": "stdout",
     "output_type": "stream",
     "text": [
      "hello  hello  hello  hello  hello  "
     ]
    }
   ],
   "source": [
    "i=0\n",
    "while i<10:\n",
    "    if i==5:\n",
    "        break\n",
    "    print(\"hello \",end=\" \")\n",
    "    i+=1"
   ]
  },
  {
   "cell_type": "code",
   "execution_count": 10,
   "metadata": {},
   "outputs": [
    {
     "name": "stdout",
     "output_type": "stream",
     "text": [
      "lscdcd..exit\n"
     ]
    }
   ],
   "source": [
    "while True:\n",
    "    x=input(\">> enter command \")\n",
    "    if x==\"exit\":\n",
    "        print(\"exit\")\n",
    "        break\n",
    "    else:\n",
    "        print(x,end=\"\")\n",
    "    "
   ]
  },
  {
   "cell_type": "code",
   "execution_count": 15,
   "metadata": {},
   "outputs": [
    {
     "name": "stdout",
     "output_type": "stream",
     "text": [
      "0 1 2 3 4 6 7 8 9 "
     ]
    }
   ],
   "source": [
    "i=0\n",
    "while i<10:\n",
    "    if i==5:\n",
    "        i+=1\n",
    "        continue\n",
    "    print(i,end=\" \")\n",
    "    i+=1"
   ]
  },
  {
   "cell_type": "code",
   "execution_count": 16,
   "metadata": {},
   "outputs": [
    {
     "name": "stdout",
     "output_type": "stream",
     "text": [
      "0 1 2 3 4 6 7 8 9 10 "
     ]
    }
   ],
   "source": [
    "for i in range(11):\n",
    "    if i==5:\n",
    "        continue\n",
    "    print(i,end=\" \")"
   ]
  },
  {
   "cell_type": "code",
   "execution_count": 17,
   "metadata": {},
   "outputs": [
    {
     "name": "stdout",
     "output_type": "stream",
     "text": [
      "1 3 5 7 9 "
     ]
    }
   ],
   "source": [
    "for i in range(11):\n",
    "    if i%2==0:\n",
    "        continue\n",
    "    print(i,end=\" \")"
   ]
  },
  {
   "cell_type": "markdown",
   "metadata": {},
   "source": [
    "# for loop"
   ]
  },
  {
   "cell_type": "code",
   "execution_count": 18,
   "metadata": {},
   "outputs": [
    {
     "name": "stdout",
     "output_type": "stream",
     "text": [
      " hello khaled\n",
      " hello hossam\n",
      " hello yasser\n"
     ]
    }
   ],
   "source": [
    "guest_list=[\"khaled\",\"hossam\",\"yasser\"]\n",
    "for guest in guest_list:\n",
    "    print(f\" hello {guest}\")"
   ]
  },
  {
   "cell_type": "code",
   "execution_count": 19,
   "metadata": {},
   "outputs": [
    {
     "name": "stdout",
     "output_type": "stream",
     "text": [
      "6\n"
     ]
    }
   ],
   "source": [
    "name=\"khaled\"\n",
    "print(len(name))"
   ]
  },
  {
   "cell_type": "code",
   "execution_count": 20,
   "metadata": {},
   "outputs": [
    {
     "name": "stdout",
     "output_type": "stream",
     "text": [
      "6\n",
      "6\n"
     ]
    }
   ],
   "source": [
    "def my_len(param):\n",
    "    counter=0\n",
    "    for element in param:\n",
    "        counter+=1\n",
    "    return counter\n",
    "\n",
    "name=\"khaled\"\n",
    "print(len(name))\n",
    "print(my_len(name))    "
   ]
  },
  {
   "cell_type": "code",
   "execution_count": 23,
   "metadata": {},
   "outputs": [
    {
     "name": "stdout",
     "output_type": "stream",
     "text": [
      "406\n"
     ]
    }
   ],
   "source": [
    "def my_sum(param):\n",
    "    my_total=0\n",
    "    for i in param:\n",
    "        my_total+=i\n",
    "    return my_total\n",
    "print(my_sum(range(29)))"
   ]
  },
  {
   "cell_type": "code",
   "execution_count": 36,
   "metadata": {},
   "outputs": [
    {
     "name": "stdout",
     "output_type": "stream",
     "text": [
      "None\n"
     ]
    }
   ],
   "source": [
    "my_lista=[33,5,6,4,54,2334,43,0,880,-4]]\n",
    "def my_min(param):\n",
    "    min_value=None\n",
    "    for element in param:\n",
    "        if  min_value is None or element<min_value:\n",
    "            min_value=element\n",
    "    return min_value\n",
    "print(min(my_lista))\n",
    "print(my_min(my_lista))"
   ]
  },
  {
   "cell_type": "code",
   "execution_count": 33,
   "metadata": {},
   "outputs": [
    {
     "name": "stdout",
     "output_type": "stream",
     "text": [
      "2334\n",
      "2334\n"
     ]
    }
   ],
   "source": [
    "my_lista=[33,5,6,4,54,2334,43,0,880,-4]\n",
    "def my_max(param):\n",
    "    max_value=None\n",
    "    for element in param:\n",
    "        if  max_value is None or element > max_value:\n",
    "            max_value=element\n",
    "    return max_value\n",
    "print(max(my_lista))\n",
    "print(my_max(my_lista))"
   ]
  },
  {
   "cell_type": "code",
   "execution_count": 39,
   "metadata": {},
   "outputs": [
    {
     "name": "stdout",
     "output_type": "stream",
     "text": [
      "10   4     2.5\n"
     ]
    }
   ],
   "source": [
    "total=0\n",
    "counter=0\n",
    "while True:\n",
    "    number=input( \"enter a number or Done if ya finished : \")\n",
    "    if number==\"Done\":\n",
    "        break\n",
    "    else:\n",
    "        total+=int(number)\n",
    "        counter+=1\n",
    "print (f\"{total}   {counter}     {total/counter}\")"
   ]
  }
 ],
 "metadata": {
  "kernelspec": {
   "display_name": "base",
   "language": "python",
   "name": "python3"
  },
  "language_info": {
   "codemirror_mode": {
    "name": "ipython",
    "version": 3
   },
   "file_extension": ".py",
   "mimetype": "text/x-python",
   "name": "python",
   "nbconvert_exporter": "python",
   "pygments_lexer": "ipython3",
   "version": "3.11.4"
  }
 },
 "nbformat": 4,
 "nbformat_minor": 2
}
