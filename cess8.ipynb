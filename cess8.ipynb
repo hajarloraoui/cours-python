{
 "cells": [
  {
   "cell_type": "markdown",
   "metadata": {},
   "source": [
    "<div style=\"background: linear-gradient(to right, #DC143C, #FF69B4); color: white; font-size: 40px; text-align: center;\">\n",
    "    <b>Lists (yotba3)</b>\n",
    "</div>"
   ]
  },
  {
   "cell_type": "code",
   "execution_count": 1,
   "metadata": {},
   "outputs": [
    {
     "name": "stdout",
     "output_type": "stream",
     "text": [
      "['k', 'h', 'a', 'l', 'e', 'd']\n"
     ]
    }
   ],
   "source": [
    "name=\"khaled\"\n",
    "print(list(name))"
   ]
  },
  {
   "cell_type": "code",
   "execution_count": 2,
   "metadata": {},
   "outputs": [
    {
     "name": "stdout",
     "output_type": "stream",
     "text": [
      "['T', 'h', 'e', ' ', 'l', 'i', 's', 't', ' ', 'f', 'u', 'n', 'c', 't', 'i', 'o', 'n', ' ', 'b', 'r', 'e', 'a', 'k', 's', ' ', 'a', ' ', 's', 't', 'r', 'i', 'n', 'g', ' ', 'i', 'n', 't', 'o', ' ', 'i', 'n', 'd', 'i', 'v', 'i', 'd', 'u', 'a', 'l', ' ', 'l', 'e', 't', 't', 'e', 'r', 's']\n"
     ]
    }
   ],
   "source": [
    "jomla=\"The list function breaks a string into individual letters\"\n",
    "print(list(jomla))"
   ]
  },
  {
   "cell_type": "code",
   "execution_count": 3,
   "metadata": {},
   "outputs": [
    {
     "name": "stdout",
     "output_type": "stream",
     "text": [
      "['The', 'list', 'function', 'breaks', 'a', 'string', 'into', 'individual', 'letters']\n"
     ]
    }
   ],
   "source": [
    "my_list=jomla.split()\n",
    "print(my_list)"
   ]
  },
  {
   "cell_type": "code",
   "execution_count": 5,
   "metadata": {},
   "outputs": [
    {
     "name": "stdout",
     "output_type": "stream",
     "text": [
      "['The l', 'st funct', 'on breaks a str', 'ng ', 'nto ', 'nd', 'v', 'dual letters']\n"
     ]
    }
   ],
   "source": [
    "my_list=jomla.split(\"i\")\n",
    "print(my_list)"
   ]
  },
  {
   "cell_type": "code",
   "execution_count": 6,
   "metadata": {},
   "outputs": [
    {
     "name": "stdout",
     "output_type": "stream",
     "text": [
      "khaled\n"
     ]
    }
   ],
   "source": [
    "my_klist=['k', 'h', 'a', 'l', 'e', 'd']\n",
    "print(\"\".join(my_klist))"
   ]
  },
  {
   "cell_type": "code",
   "execution_count": 7,
   "metadata": {},
   "outputs": [
    {
     "name": "stdout",
     "output_type": "stream",
     "text": [
      "k h a l e d\n",
      "k_h_a_l_e_d\n"
     ]
    }
   ],
   "source": [
    "my_klist=['k', 'h', 'a', 'l', 'e', 'd']\n",
    "print(\" \".join(my_klist))\n",
    "my_klist=['k', 'h', 'a', 'l', 'e', 'd']\n",
    "print(\"_\".join(my_klist))"
   ]
  },
  {
   "cell_type": "code",
   "execution_count": 8,
   "metadata": {},
   "outputs": [
    {
     "name": "stdout",
     "output_type": "stream",
     "text": [
      "True\n",
      "False\n"
     ]
    }
   ],
   "source": [
    "a=[1,2,3]\n",
    "b=[1,2,3]\n",
    "print(a==b)\n",
    "print(a is b)"
   ]
  },
  {
   "cell_type": "code",
   "execution_count": 9,
   "metadata": {},
   "outputs": [
    {
     "data": {
      "text/plain": [
       "[5, 24, 35]"
      ]
     },
     "execution_count": 9,
     "metadata": {},
     "output_type": "execute_result"
    }
   ],
   "source": [
    "a=[13,24,35]\n",
    "b=a\n",
    "b[0]=5\n",
    "a"
   ]
  },
  {
   "cell_type": "code",
   "execution_count": 10,
   "metadata": {},
   "outputs": [
    {
     "data": {
      "text/plain": [
       "[24, 35]"
      ]
     },
     "execution_count": 10,
     "metadata": {},
     "output_type": "execute_result"
    }
   ],
   "source": [
    "a=a[1:]\n",
    "a"
   ]
  },
  {
   "cell_type": "code",
   "execution_count": 12,
   "metadata": {},
   "outputs": [
    {
     "data": {
      "text/plain": [
       "[0, 1, 2, 3, 4, 5, 6, 7, 8, 9]"
      ]
     },
     "execution_count": 12,
     "metadata": {},
     "output_type": "execute_result"
    }
   ],
   "source": [
    "list_exriment=list(range(10))\n",
    "list_exriment"
   ]
  },
  {
   "cell_type": "code",
   "execution_count": 17,
   "metadata": {},
   "outputs": [
    {
     "name": "stdout",
     "output_type": "stream",
     "text": [
      "None\n"
     ]
    },
    {
     "data": {
      "text/plain": [
       "[1, 2, 3, 4, 5, 6, 7, 8]"
      ]
     },
     "execution_count": 17,
     "metadata": {},
     "output_type": "execute_result"
    }
   ],
   "source": [
    "def chop(a:list):\n",
    "    del a[0]\n",
    "    del a[-1]\n",
    "    return None\n",
    "print(chop(list_exriment))\n",
    "list_exriment    "
   ]
  },
  {
   "cell_type": "code",
   "execution_count": 19,
   "metadata": {},
   "outputs": [
    {
     "name": "stdout",
     "output_type": "stream",
     "text": [
      "[2, 3, 4, 5, 6, 7]\n"
     ]
    },
    {
     "data": {
      "text/plain": [
       "[1, 2, 3, 4, 5, 6, 7, 8]"
      ]
     },
     "execution_count": 19,
     "metadata": {},
     "output_type": "execute_result"
    }
   ],
   "source": [
    "def middle(a:list):\n",
    "    \n",
    "    return a[1:-1]\n",
    "print(middle(list_exriment))\n",
    "list_exriment"
   ]
  },
  {
   "cell_type": "code",
   "execution_count": 23,
   "metadata": {},
   "outputs": [
    {
     "name": "stdout",
     "output_type": "stream",
     "text": [
      "110\n",
      "59\n",
      "['a', 'dictionary', 'is', 'like', 'list,', 'but', 'more', 'general.', 'in', 'the', 'index', 'positions', 'have', 'to', 'you', 'will', 'parse', 'from', 'line', 'and', 'print', 'out', 'second', 'word', 'for', 'each', 'then', 'also', 'count', 'number', 'of', '(not', 'from:)', 'lines', 'rewrite', 'program', 'that', 'prompts', 'user', 'list', 'numbers', 'prints', 'maximum', 'minimum', 'at', 'end', 'when', 'enters', '“done”.', 'write', 'store', 'use', 'max()', 'min()', 'functions', 'compute', 'after', 'loop', 'completes.']\n"
     ]
    }
   ],
   "source": [
    "paragraph=\"\"\"A dictionary is like a list, but more general. In a list, the index positions have to You will parse the From line and print out the second word for each From line then you will also count the number of\n",
    "From (not From:) lines and print out a Rewrite the program that prompts the user for a list of numbers and prints out the\n",
    "maximum and minimum of the numbers at the end when the user enters “done”.\n",
    "Write the program to store the numbers the user enters in a list and use the max()\n",
    "and min() functions to compute the maximum and minimum numbers after the\n",
    "loop completes.\"\"\"\n",
    "\n",
    "giant_list=paragraph.split()\n",
    "lower_giant=[]\n",
    "for i in giant_list:\n",
    "    lower_giant.append(i.lower())\n",
    "short_one=[]\n",
    "for i in lower_giant:\n",
    "    if i not in short_one:\n",
    "        short_one.append(i)\n",
    "print(len(giant_list))\n",
    "print(len(short_one))\n",
    "print(short_one)"
   ]
  }
 ],
 "metadata": {
  "kernelspec": {
   "display_name": "base",
   "language": "python",
   "name": "python3"
  },
  "language_info": {
   "codemirror_mode": {
    "name": "ipython",
    "version": 3
   },
   "file_extension": ".py",
   "mimetype": "text/x-python",
   "name": "python",
   "nbconvert_exporter": "python",
   "pygments_lexer": "ipython3",
   "version": "3.11.4"
  }
 },
 "nbformat": 4,
 "nbformat_minor": 2
}
