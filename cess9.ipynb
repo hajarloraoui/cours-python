{
 "cells": [
  {
   "cell_type": "markdown",
   "metadata": {},
   "source": [
    "<div style=\"background: linear-gradient(to right, #DC143C, #FF69B4); color: white; font-size: 40px; text-align: center;\">\n",
    "    <b>Dictionaries\n",
    "</b>\n",
    "</div>"
   ]
  },
  {
   "cell_type": "code",
   "execution_count": 6,
   "metadata": {},
   "outputs": [
    {
     "data": {
      "text/plain": [
       "dict"
      ]
     },
     "execution_count": 6,
     "metadata": {},
     "output_type": "execute_result"
    }
   ],
   "source": [
    "kk={\"abeil\":\"hasharatoun latifa\",\n",
    "    \"farasha\":\"tahiya\"}\n",
    "type(kk)"
   ]
  },
  {
   "cell_type": "code",
   "execution_count": 2,
   "metadata": {},
   "outputs": [
    {
     "name": "stdout",
     "output_type": "stream",
     "text": [
      "hasharatoun latifa\n"
     ]
    }
   ],
   "source": [
    "print(kk[\"abeil\"])"
   ]
  },
  {
   "cell_type": "code",
   "execution_count": 4,
   "metadata": {},
   "outputs": [
    {
     "name": "stdout",
     "output_type": "stream",
     "text": [
      "<class 'dict'>\n",
      "<class 'dict'>\n"
     ]
    }
   ],
   "source": [
    "empty=dict()\n",
    "empty2={}\n",
    "print(type(empty))\n",
    "print(type(empty2))"
   ]
  },
  {
   "cell_type": "code",
   "execution_count": 7,
   "metadata": {},
   "outputs": [
    {
     "name": "stdout",
     "output_type": "stream",
     "text": [
      "{'abeil': 'hasharatoun latifa', 'farasha': 'tahiya', 'gorilla': 'hasharaton ghairo latifa'}\n"
     ]
    }
   ],
   "source": [
    "kk[\"gorilla\"]=\"hasharaton ghairo latifa\"\n",
    "print(kk)"
   ]
  },
  {
   "cell_type": "code",
   "execution_count": 8,
   "metadata": {},
   "outputs": [
    {
     "ename": "KeyError",
     "evalue": "'solahfat'",
     "output_type": "error",
     "traceback": [
      "\u001b[0;31m---------------------------------------------------------------------------\u001b[0m",
      "\u001b[0;31mKeyError\u001b[0m                                  Traceback (most recent call last)",
      "Cell \u001b[0;32mIn[8], line 1\u001b[0m\n\u001b[0;32m----> 1\u001b[0m \u001b[38;5;28mprint\u001b[39m(\u001b[43mkk\u001b[49m\u001b[43m[\u001b[49m\u001b[38;5;124;43m\"\u001b[39;49m\u001b[38;5;124;43msolahfat\u001b[39;49m\u001b[38;5;124;43m\"\u001b[39;49m\u001b[43m]\u001b[49m)\n",
      "\u001b[0;31mKeyError\u001b[0m: 'solahfat'"
     ]
    }
   ],
   "source": [
    "print(kk[\"solahfat\"])"
   ]
  },
  {
   "cell_type": "code",
   "execution_count": 9,
   "metadata": {},
   "outputs": [
    {
     "data": {
      "text/plain": [
       "3"
      ]
     },
     "execution_count": 9,
     "metadata": {},
     "output_type": "execute_result"
    }
   ],
   "source": [
    "len(kk)"
   ]
  },
  {
   "cell_type": "code",
   "execution_count": 10,
   "metadata": {},
   "outputs": [
    {
     "data": {
      "text/plain": [
       "['abeil', 'farasha', 'gorilla']"
      ]
     },
     "execution_count": 10,
     "metadata": {},
     "output_type": "execute_result"
    }
   ],
   "source": [
    "list_from_dict=list(kk)\n",
    "list_from_dict"
   ]
  },
  {
   "cell_type": "code",
   "execution_count": 12,
   "metadata": {},
   "outputs": [
    {
     "name": "stdout",
     "output_type": "stream",
     "text": [
      "{'a': 6, 'dictionary': 1, 'is': 1, 'like': 1, 'list': 4, 'but': 1, 'more': 1, 'general': 1, 'in': 2, 'the': 16, 'index': 1, 'positions': 1, 'have': 1, 'to': 3, 'you': 2, 'will': 2, 'parse': 1, 'from': 4, 'line': 2, 'and': 7, 'print': 2, 'out': 3, 'second': 1, 'word': 1, 'for': 2, 'each': 1, 'then': 1, 'also': 1, 'count': 1, 'number': 1, 'of': 3, 'not': 1, 'lines': 1, 'rewrite': 1, 'program': 2, 'that': 1, 'prompts': 1, 'user': 3, 'numbers': 4, 'prints': 1, 'maximum': 2, 'minimum': 2, 'at': 1, 'end': 1, 'when': 1, 'enters': 2, 'done': 1, 'write': 1, 'store': 1, 'use': 1, 'max': 1, 'min': 1, 'functions': 1, 'compute': 1, 'after': 1, 'loop': 1, 'completes': 1}\n"
     ]
    }
   ],
   "source": [
    "paragraph=\"\"\"A dictionary is like a list but more general In a list\n",
    "the index positions have to You will parse the From line and\n",
    "print out the second word for each From line then you will also count the number of\n",
    "From not From lines and print out a Rewrite the program that prompts the user for a\n",
    "list of numbers and prints out the\n",
    "maximum and minimum of the numbers at the end when the user enters done\n",
    "Write the program to store the numbers the user enters in a list and use the max\n",
    "and min functions to compute the maximum and minimum numbers after the\n",
    "loop completes\"\"\"\n",
    "lower_paragraph=paragraph.lower()\n",
    "giant_list=paragraph.split()\n",
    "lower_giant=[]\n",
    "for i in giant_list:\n",
    "    lower_giant.append(i.lower())\n",
    "short_one=[]\n",
    "for i in lower_giant:\n",
    "    if i not in short_one:\n",
    "        short_one.append(i)\n",
    "my_result={}\n",
    "for i in short_one:\n",
    "    my_result[i]=lower_giant.count(i)\n",
    "print(my_result)\n",
    "    "
   ]
  },
  {
   "cell_type": "code",
   "execution_count": 14,
   "metadata": {},
   "outputs": [
    {
     "name": "stdout",
     "output_type": "stream",
     "text": [
      "{'t': 2, 'h': 1, 'i': 2, 's': 3, ' ': 3, 'a': 1, 'e': 3, 'n': 2, 'c': 1, '.': 1}\n"
     ]
    }
   ],
   "source": [
    "sentence=\"this is a sentence.\"\n",
    "frequencer={}\n",
    "for i in sentence:\n",
    "    if i in frequencer:\n",
    "        frequencer[i]+=1\n",
    "    else:\n",
    "        frequencer[i]=1\n",
    "print(frequencer)"
   ]
  }
 ],
 "metadata": {
  "kernelspec": {
   "display_name": "base",
   "language": "python",
   "name": "python3"
  },
  "language_info": {
   "codemirror_mode": {
    "name": "ipython",
    "version": 3
   },
   "file_extension": ".py",
   "mimetype": "text/x-python",
   "name": "python",
   "nbconvert_exporter": "python",
   "pygments_lexer": "ipython3",
   "version": "3.11.4"
  }
 },
 "nbformat": 4,
 "nbformat_minor": 2
}
