{
 "cells": [
  {
   "cell_type": "markdown",
   "metadata": {},
   "source": [
    "# hissa1"
   ]
  },
  {
   "cell_type": "code",
   "execution_count": 2,
   "metadata": {},
   "outputs": [
    {
     "name": "stdout",
     "output_type": "stream",
     "text": [
      "hello hajar \n"
     ]
    }
   ],
   "source": [
    "print(\"hello hajar \")"
   ]
  },
  {
   "cell_type": "code",
   "execution_count": 3,
   "metadata": {},
   "outputs": [
    {
     "name": "stdout",
     "output_type": "stream",
     "text": [
      "<class 'int'>\n"
     ]
    }
   ],
   "source": [
    "print(type(5))"
   ]
  },
  {
   "cell_type": "code",
   "execution_count": 4,
   "metadata": {},
   "outputs": [
    {
     "name": "stdout",
     "output_type": "stream",
     "text": [
      " jamal has 77 years\n"
     ]
    }
   ],
   "source": [
    "age=77\n",
    "name=\"jamal\"\n",
    "print(f\" {name} has {age } years\")"
   ]
  },
  {
   "cell_type": "code",
   "execution_count": 5,
   "metadata": {},
   "outputs": [
    {
     "name": "stdout",
     "output_type": "stream",
     "text": [
      "jamal has 77 years\n"
     ]
    }
   ],
   "source": [
    "age=77\n",
    "name=\"jamal\"\n",
    "print(\"{} has {} years\".format(name,age ))"
   ]
  },
  {
   "cell_type": "code",
   "execution_count": 20,
   "metadata": {},
   "outputs": [
    {
     "name": "stdout",
     "output_type": "stream",
     "text": [
      "<class 'str'> :name \n",
      "<class 'int'> :age \t \n",
      "<class 'float'>\n",
      "100000000\n"
     ]
    }
   ],
   "source": [
    "age=100_000_000\n",
    "name=\"jamal\"\n",
    "z=66.6\n",
    "print(\"{} :name \\n{} :age \\t \\n{}\".format(type(name),type(age),type(z) ))\n",
    "print(age)"
   ]
  },
  {
   "cell_type": "code",
   "execution_count": 30,
   "metadata": {},
   "outputs": [
    {
     "name": "stdout",
     "output_type": "stream",
     "text": [
      "449\n",
      "75.6\n"
     ]
    }
   ],
   "source": [
    "print(444+5)\n",
    "print(66+9.6)"
   ]
  },
  {
   "cell_type": "code",
   "execution_count": 33,
   "metadata": {},
   "outputs": [
    {
     "data": {
      "text/plain": [
       "86731.21276595745"
      ]
     },
     "execution_count": 33,
     "metadata": {},
     "output_type": "execute_result"
    }
   ],
   "source": [
    "550309545/6345"
   ]
  },
  {
   "cell_type": "code",
   "execution_count": 35,
   "metadata": {},
   "outputs": [
    {
     "data": {
      "text/plain": [
       "86731"
      ]
     },
     "execution_count": 35,
     "metadata": {},
     "output_type": "execute_result"
    }
   ],
   "source": [
    "550309545//6345"
   ]
  },
  {
   "cell_type": "code",
   "execution_count": 36,
   "metadata": {},
   "outputs": [
    {
     "data": {
      "text/plain": [
       "104"
      ]
     },
     "execution_count": 36,
     "metadata": {},
     "output_type": "execute_result"
    }
   ],
   "source": [
    "number=99\n",
    "number+5"
   ]
  },
  {
   "cell_type": "code",
   "execution_count": 42,
   "metadata": {},
   "outputs": [
    {
     "name": "stdout",
     "output_type": "stream",
     "text": [
      "jamal  3ira9i\n",
      "jamal jamal jamal jamal jamal \n"
     ]
    }
   ],
   "source": [
    "name=\"jamal \"\n",
    "surname=\"3ira9i\"\n",
    "print(name+\" \"+surname)\n",
    "print(name*5)"
   ]
  },
  {
   "cell_type": "code",
   "execution_count": 39,
   "metadata": {},
   "outputs": [
    {
     "name": "stdout",
     "output_type": "stream",
     "text": [
      "AAATCCCGCCGTTTGAAATCGGGCCGCCGCCTG\n"
     ]
    }
   ],
   "source": [
    "sequence1=\"AAATCCCGCCGTTTG\"\n",
    "sequence2=\"AAATCGGGCCGCCGCCTG\"\n",
    "print(sequence1+sequence2)"
   ]
  },
  {
   "cell_type": "code",
   "execution_count": 44,
   "metadata": {},
   "outputs": [
    {
     "name": "stdout",
     "output_type": "stream",
     "text": [
      " hello morad merhba bik\n"
     ]
    }
   ],
   "source": [
    "name=input(\" enter your name \")\n",
    "print(f\" hello {name} merhba bik\")"
   ]
  },
  {
   "cell_type": "code",
   "execution_count": 46,
   "metadata": {},
   "outputs": [
    {
     "name": "stdout",
     "output_type": "stream",
     "text": [
      "20\n"
     ]
    }
   ],
   "source": [
    "number=input(\"give me a number and i will multiply it by 4\")\n",
    "print(int(number)*4)"
   ]
  },
  {
   "cell_type": "code",
   "execution_count": 49,
   "metadata": {},
   "outputs": [
    {
     "name": "stdout",
     "output_type": "stream",
     "text": [
      "20\n"
     ]
    }
   ],
   "source": [
    "number=int(input(\"give me a number and i will multiply it by 4\"))\n",
    "print(number*4)"
   ]
  },
  {
   "cell_type": "code",
   "execution_count": 50,
   "metadata": {},
   "outputs": [
    {
     "name": "stdout",
     "output_type": "stream",
     "text": [
      "majid daiman motawajid\n"
     ]
    }
   ],
   "source": [
    "txt=input()\n",
    "print(txt)"
   ]
  },
  {
   "cell_type": "code",
   "execution_count": 52,
   "metadata": {},
   "outputs": [
    {
     "name": "stdout",
     "output_type": "stream",
     "text": [
      " nice to meta lam\n"
     ]
    }
   ],
   "source": [
    "message=\"hello whats ya name\"\n",
    "# comment in one line \n",
    "\"\"\"\n",
    "documentation diyal functions stoupli \n",
    "\"\"\"\n",
    "name=input(message)\n",
    "print(f\" nice to meta {name}\") # this line is perfect "
   ]
  },
  {
   "cell_type": "code",
   "execution_count": 53,
   "metadata": {},
   "outputs": [
    {
     "name": "stdout",
     "output_type": "stream",
     "text": [
      "nice tomita mm \t\n",
      "nice tomita nn \t\n",
      "nice tomita ii \t\n"
     ]
    }
   ],
   "source": [
    "names=[\"mm\",\"nn\",\"ii\"]\n",
    "for name in names:\n",
    "    print(f\"nice tomita {name} \\t\")"
   ]
  },
  {
   "cell_type": "code",
   "execution_count": 56,
   "metadata": {},
   "outputs": [
    {
     "name": "stdout",
     "output_type": "stream",
     "text": [
      "nice tomita mm \t\n",
      "nice tomita nn \t\n",
      "nice tomita ii \t\n"
     ]
    }
   ],
   "source": [
    "names=[\"mm\",\"nn\",\"ii\"]\n",
    "for i in names:\n",
    "    print(f\"nice tomita {i} \\t\")"
   ]
  },
  {
   "cell_type": "code",
   "execution_count": 58,
   "metadata": {},
   "outputs": [
    {
     "name": "stdout",
     "output_type": "stream",
     "text": [
      "Pay: 96.25\n"
     ]
    }
   ],
   "source": [
    "hours=int(input(\"Enter Hours: \"))\n",
    "rate=float(input(\"Enter Rate: \"))\n",
    "print(f\"Pay: {hours*rate}\")"
   ]
  },
  {
   "cell_type": "code",
   "execution_count": 59,
   "metadata": {},
   "outputs": [
    {
     "data": {
      "text/plain": [
       "2.0"
      ]
     },
     "execution_count": 59,
     "metadata": {},
     "output_type": "execute_result"
    }
   ],
   "source": [
    "8.0/4"
   ]
  },
  {
   "cell_type": "code",
   "execution_count": 60,
   "metadata": {},
   "outputs": [
    {
     "data": {
      "text/plain": [
       "11"
      ]
     },
     "execution_count": 60,
     "metadata": {},
     "output_type": "execute_result"
    }
   ],
   "source": [
    "1+2*5"
   ]
  },
  {
   "cell_type": "code",
   "execution_count": 61,
   "metadata": {},
   "outputs": [
    {
     "name": "stdout",
     "output_type": "stream",
     "text": [
      " 55.0 C in Fahrenheit is equal to:\n",
      "\t 131.0\n"
     ]
    }
   ],
   "source": [
    "Celsius=float(input(\" 3tina lharara diyalk\"))\n",
    "Fahrenheit=(Celsius * 9/5) + 32\n",
    "\n",
    "print(f\" {Celsius} C in Fahrenheit is equal to:\\n\\t {Fahrenheit}\")"
   ]
  }
 ],
 "metadata": {
  "kernelspec": {
   "display_name": "Python 3",
   "language": "python",
   "name": "python3"
  },
  "language_info": {
   "codemirror_mode": {
    "name": "ipython",
    "version": 3
   },
   "file_extension": ".py",
   "mimetype": "text/x-python",
   "name": "python",
   "nbconvert_exporter": "python",
   "pygments_lexer": "ipython3",
   "version": "3.11.4"
  }
 },
 "nbformat": 4,
 "nbformat_minor": 2
}
