{
 "cells": [
  {
   "cell_type": "markdown",
   "metadata": {},
   "source": [
    "<div style=\"background: linear-gradient(to right, #FF6347, #FFD700); color: white; font-size: 40px; text-align: center;\">\n",
    "    <b>FILES I/O</b>\n",
    "</div>\n"
   ]
  },
  {
   "cell_type": "code",
   "execution_count": 19,
   "metadata": {},
   "outputs": [
    {
     "name": "stdout",
     "output_type": "stream",
     "text": [
      "<_io.TextIOWrapper name='my_file.txt' mode='r' encoding='UTF-8'>\n"
     ]
    }
   ],
   "source": [
    "file=open(\"my_file.txt\")\n",
    "print(file)"
   ]
  },
  {
   "cell_type": "code",
   "execution_count": 20,
   "metadata": {},
   "outputs": [
    {
     "name": "stdout",
     "output_type": "stream",
     "text": [
      "9\n"
     ]
    }
   ],
   "source": [
    "counter=0\n",
    "for i in file:\n",
    "    counter+=1\n",
    "print(counter)"
   ]
  },
  {
   "cell_type": "code",
   "execution_count": 21,
   "metadata": {},
   "outputs": [
    {
     "name": "stdout",
     "output_type": "stream",
     "text": [
      "551\n",
      "1o  sht rdfd.aesnilhiwwtRe slpe  .enf a  lfT5e hs  lone.\n"
     ]
    }
   ],
   "source": [
    "file.seek(0)\n",
    "data=file.read()\n",
    "print(len(data))\n",
    "print(data[::10])"
   ]
  },
  {
   "cell_type": "code",
   "execution_count": 22,
   "metadata": {},
   "outputs": [
    {
     "name": "stdout",
     "output_type": "stream",
     "text": [
      "5. Tiny toes tiptoed through the dew-kissed grass, leaving a trail of laughter for the morning breeze to carry.\n"
     ]
    }
   ],
   "source": [
    "file=open(\"my_file.txt\")\n",
    "for i in file:\n",
    "    if \"Tiny\" in i :\n",
    "        print(i)"
   ]
  },
  {
   "cell_type": "code",
   "execution_count": 23,
   "metadata": {},
   "outputs": [
    {
     "name": "stdout",
     "output_type": "stream",
     "text": [
      " rah this file dozent ixist\n",
      "nbr of lines is :  0\n"
     ]
    }
   ],
   "source": [
    "file_name=input(\"enter the file name \")\n",
    "try:\n",
    "    file=open(file_name)\n",
    "except:\n",
    "    print (\" rah this file dozent ixist\")\n",
    "    \n",
    "conter=0\n",
    "for line in file:\n",
    "    conter+=1\n",
    "print(\"nbr of lines is : \" ,conter)"
   ]
  },
  {
   "cell_type": "code",
   "execution_count": 24,
   "metadata": {},
   "outputs": [
    {
     "data": {
      "text/plain": [
       "6"
      ]
     },
     "execution_count": 24,
     "metadata": {},
     "output_type": "execute_result"
    }
   ],
   "source": [
    "file=open(\"useless.txt\",\"w\") \n",
    "file.write(\" amjad \")\n",
    "\n",
    "\n",
    "\n",
    "\n",
    "\n",
    "\n",
    "\n",
    "\n",
    "\n",
    "\n",
    "\n",
    "\n",
    "\n",
    "\n",
    "\n",
    "# file.close() # <------ darori\n",
    "file.write(\"kalima\")"
   ]
  },
  {
   "cell_type": "code",
   "execution_count": 25,
   "metadata": {},
   "outputs": [
    {
     "name": "stdout",
     "output_type": "stream",
     "text": [
      "1 2\\t 3\\n 4\n",
      "'1 2\\t 3\\n 4'\n"
     ]
    }
   ],
   "source": [
    "print(r'1 2\\t 3\\n 4')\n",
    "print(repr('1 2\\t 3\\n 4'))"
   ]
  },
  {
   "cell_type": "code",
   "execution_count": 34,
   "metadata": {},
   "outputs": [
    {
     "name": "stdout",
     "output_type": "stream",
     "text": [
      "Done\n"
     ]
    }
   ],
   "source": [
    "with open(\"useless.txt\",\"w\") as file:\n",
    "    file.write(\"hello w\")\n",
    "print(\"Done\")"
   ]
  }
 ],
 "metadata": {
  "kernelspec": {
   "display_name": "base",
   "language": "python",
   "name": "python3"
  },
  "language_info": {
   "codemirror_mode": {
    "name": "ipython",
    "version": 3
   },
   "file_extension": ".py",
   "mimetype": "text/x-python",
   "name": "python",
   "nbconvert_exporter": "python",
   "pygments_lexer": "ipython3",
   "version": "3.11.4"
  }
 },
 "nbformat": 4,
 "nbformat_minor": 2
}
